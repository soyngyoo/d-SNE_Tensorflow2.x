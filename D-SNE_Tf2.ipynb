{
 "cells": [
  {
   "cell_type": "code",
   "execution_count": 1,
   "id": "098daaf8-4911-4403-b163-12812bf9251e",
   "metadata": {},
   "outputs": [],
   "source": [
    "from IPython import display\n",
    "from lib import *\n",
    "from ds_load import *\n",
    "os.environ[\"CUDA_VISIBLE_DEVICES\"]=\"0\""
   ]
  },
  {
   "cell_type": "markdown",
   "id": "442767c5-528e-4563-8880-7bc3ba28caa9",
   "metadata": {},
   "source": [
    "- Stage1. Dictionary 데이터 구조로 로드하기 (src,tgt)"
   ]
  },
  {
   "cell_type": "code",
   "execution_count": 127,
   "id": "73b50434-0da9-4a70-835b-a72802067136",
   "metadata": {},
   "outputs": [],
   "source": [
    "src_idx_trn, src_idx_tst = (np.array([idx for idxes in [trn_0,trn_1,trn_2,trn_3,trn_4] for idx in idxes]),\n",
    "                            np.array([idx for idxes in [tst_0,tst_1,tst_2,tst_3,tst_4] for idx in idxes]))\n",
    "\n",
    "np.random.shuffle(src_idx_trn)\n",
    "np.random.shuffle(src_idx_tst)\n",
    "\n",
    "src_x_trn, src_y_trn = (x_train[src_idx_trn],y_train[src_idx_trn])\n",
    "src_x_tst, src_y_tst = (x_test[src_idx_tst] ,y_test[src_idx_tst])\n",
    "\n",
    "tgt_idx_trn, tgt_idx_tst = (np.array([idx for idxes in [trn_0,trn_3,trn_8,trn_9] for idx in idxes]),\n",
    "                            np.array([idx for idxes in [tst_0,tst_3,tst_8,tst_9] for idx in idxes]))\n",
    "\n",
    "np.random.shuffle(tgt_idx_trn)\n",
    "np.random.shuffle(tgt_idx_tst)\n",
    "\n",
    "tgt_x_trn, tgt_y_trn = (tx_train[tgt_idx_trn],ty_train[tgt_idx_trn])\n",
    "tgt_x_tst, tgt_y_tst = (tx_test[tgt_idx_tst] ,ty_test[tgt_idx_tst])\n",
    "\n",
    "dataset = {}\n",
    "\n",
    "dataset['x_train'] = {'src':src_x_trn, 'tgt':tgt_x_trn}\n",
    "dataset['y_train'] = {'src':src_y_trn, 'tgt':tgt_y_trn}\n",
    "\n",
    "dataset['x_test'] = {'src':src_x_tst, 'tgt':tgt_x_tst}\n",
    "dataset['y_test'] = {'src':src_y_tst, 'tgt':tgt_y_tst}"
   ]
  },
  {
   "cell_type": "markdown",
   "id": "29152be3-8780-43ec-99e0-9809d7721c13",
   "metadata": {},
   "source": [
    "- Staget2. mini batch 데이터로 나누기"
   ]
  },
  {
   "cell_type": "code",
   "execution_count": 128,
   "id": "7cb3e5b9-c22c-4ade-ac23-8275ab3043d7",
   "metadata": {},
   "outputs": [],
   "source": [
    "batch_sz = 64\n",
    "\n",
    "def batch_dataloader(inp,lbl,batch_sz=batch_sz):\n",
    "    \n",
    "    batches_X,batches_Y = {},{}\n",
    "    \n",
    "    names = ['src','tgt']\n",
    "    \n",
    "    pvt_len = 1\n",
    "    for name in names:\n",
    "        if len(inp[name]) > pvt_len: \n",
    "            pvt_len = len(inp[name])\n",
    "    \n",
    "    epoch = pvt_len // batch_sz\n",
    "    \n",
    "    start = 0\n",
    "    stop = start+batch_sz\n",
    "    \n",
    "    for idx in range(epoch):\n",
    "        \n",
    "        batch_X, batch_Y = {}, {}\n",
    "        \n",
    "        for name in names:\n",
    "               \n",
    "            sliced_inps= inp[name][start:stop]\n",
    "            sliced_outs= lbl[name][start:stop]\n",
    "            \n",
    "            batch_X[name] = np.array(sliced_inps)\n",
    "            batch_Y[name] = np.array(sliced_outs)\n",
    "            \n",
    "        batches_X[idx] = batch_X\n",
    "        batches_Y[idx] = batch_Y\n",
    "        \n",
    "        start = stop\n",
    "        stop += batch_sz\n",
    "            \n",
    "    return batches_X,batches_Y\n",
    "\n",
    "train_inps, train_lbls = dataset['x_train'], dataset['y_train']\n",
    "train_batch_inps, train_batch_lbls = batch_dataloader(train_inps, train_lbls)"
   ]
  },
  {
   "cell_type": "markdown",
   "id": "5e08fdb0-2c92-4006-bc57-fcf1d8b73f3f",
   "metadata": {},
   "source": [
    "- Stage3. 모델 아키텍쳐 설계 "
   ]
  },
  {
   "cell_type": "code",
   "execution_count": 129,
   "id": "d1b7a144-d195-4fc7-ac42-0092abfd0bb3",
   "metadata": {},
   "outputs": [],
   "source": [
    "latent_dim = 128\n",
    "\n",
    "def Extractor():\n",
    "    inp = Input(shape=(28,28,3), name=\"f_input\")\n",
    "    out = Conv2D(filters=16, kernel_size=(3, 3), padding=\"same\", activation=\"relu\")(inp)\n",
    "    out = MaxPooling2D(pool_size=(2, 2))(out)\n",
    "    out = Conv2D(filters=32, kernel_size=(3, 3), padding=\"same\", activation=\"relu\")(out)\n",
    "    out = MaxPooling2D(pool_size=(2, 2))(out)\n",
    "    out = Conv2D(filters=64, kernel_size=(3, 3), padding=\"same\", activation=\"relu\")(out)\n",
    "    out = MaxPooling2D(pool_size=(2, 2))(out)\n",
    "    out = Flatten()(out)\n",
    "    out = Dense(latent_dim, activation=\"relu\",name='features')(out)\n",
    "    return Model(inputs=inp, outputs=out, name=\"Extractor\")\n",
    "\n",
    "def Classifier():\n",
    "    inp = Input(shape=(latent_dim,))\n",
    "    out = Dense(1024, activation=\"relu\")(inp)\n",
    "    out = Dense(512, activation=\"relu\")(out)\n",
    "    out = Dense(64, activation=\"relu\")(out)\n",
    "    out = Dense(10, activation=\"softmax\", name=\"cls_output\")(out)\n",
    "    return Model(inputs=inp, outputs=out,name=\"Classifier\")\n",
    "\n",
    "def build_model(extractor=Extractor(),classifier=Classifier()):\n",
    "    inp = Input(shape=(28,28,3), name=\"input\")\n",
    "    feats = extractor(inp)\n",
    "    out   = classifier(feats)\n",
    "    model = Model(inputs=inp,outputs=out, name = \"model\")\n",
    "    return model \n",
    "\n",
    "model = build_model()"
   ]
  },
  {
   "cell_type": "markdown",
   "id": "d443f121-8447-46ab-a5db-a91b56cf8db4",
   "metadata": {},
   "source": [
    "- Stage4 Combine loss 설계 "
   ]
  },
  {
   "cell_type": "code",
   "execution_count": 130,
   "id": "ad7607ff-7ff1-4a90-8f19-0f643562c454",
   "metadata": {},
   "outputs": [],
   "source": [
    "# 훈련에 필요한 옵티마이저(optimizer)와 손실 함수를 선택합니다\n",
    "learning_rate = 1e-4\n",
    "optimizer = tf.keras.optimizers.Adam(learning_rate=learning_rate)    # optimizer는 adam \n",
    "CrossEntropy = tf.keras.losses.categorical_crossentropy\n",
    "\n",
    "# 모델의 손실과 성능을 측정할 지표를 선택합니다. \n",
    "# 에포크가 진행되는 동안 수집된 측정 지표를 바탕으로 최종 결과를 출력합니다.\n",
    "train_loss = tf.keras.metrics.Mean(name='train_loss')\n",
    "train_accuracy = tf.keras.metrics.SparseCategoricalAccuracy(name='train_accuracy')"
   ]
  },
  {
   "cell_type": "code",
   "execution_count": 135,
   "id": "20d3890d-66eb-45a1-ada4-709c47041ba9",
   "metadata": {},
   "outputs": [],
   "source": [
    "def DSNELoss(ft,y,trn,margin=1.0):\n",
    "    names = ['src','tgt']\n",
    "\n",
    "    names.remove(trn)\n",
    "    cmp = names[0]\n",
    "\n",
    "    dists = tf.abs((tf.expand_dims(ft[trn],axis=0) - tf.expand_dims(ft[cmp],axis=0))**2)\n",
    "    dists = tf.reduce_mean(dists,axis=-1)[0]\n",
    "\n",
    "    y_trn = y[trn].argmax(axis=1) \n",
    "    y_cmp = y[cmp].argmax(axis=1) \n",
    "\n",
    "    y_same = tf.math.equal(y_trn,y_cmp) # Boolean mask\n",
    "    y_diff = tf.math.logical_not(y_same) # Boolean mask\n",
    "\n",
    "    intraclass_dists = dists * y_same.numpy() # Set 0 where classes are different\n",
    "    interclass_dists = dists * y_diff.numpy() # Set 0 where classes are the same\n",
    "\n",
    "    # For each training image, find the minimum interclass distance\n",
    "    interclass_dists_idx = tf.argmin(interclass_dists) # 다른 라벨 중 가장 가까운것을 \n",
    "    min_interclass_dist = interclass_dists[interclass_dists_idx]\n",
    "\n",
    "    # For each training image, find the maximum intraclass distance\n",
    "    intraclass_dists_idx = tf.argmax(intraclass_dists) # 같은 라벨중 가장 큰 것을\n",
    "    max_intraclass_dist = intraclass_dists[intraclass_dists_idx]\n",
    "\n",
    "    differences = min_interclass_dist - max_intraclass_dist\n",
    "\n",
    "    loss = tf.abs(differences-margin)\n",
    "    #loss = tf.clip_by_value(loss,clip_value_min=0,clip_value_max=margin)\n",
    "\n",
    "    return loss"
   ]
  },
  {
   "cell_type": "code",
   "execution_count": 147,
   "id": "12a55b39-aedc-4239-bb9a-b1dfe0c0ddd4",
   "metadata": {},
   "outputs": [],
   "source": [
    "def compute_loss(extractor, classifier, x, y, trn, alpha=0.1):\n",
    "    feat = extractor(x[trn])\n",
    "    y_hat = classifier(feat)\n",
    "    lbl_loss = CrossEntropy(y[trn],y_hat)\n",
    "    \n",
    "    ft = {}\n",
    "    for name in ['src','tgt']:\n",
    "        ft[name]  = extractor(x[name])\n",
    "        \n",
    "    domain_loss = DSNELoss(ft, y, trn)\n",
    "    total_loss = (1 - alpha)*tf.reduce_mean(lbl_loss) + (alpha*domain_loss.numpy())\n",
    "        \n",
    "    return total_loss"
   ]
  },
  {
   "cell_type": "code",
   "execution_count": 148,
   "id": "ad63c0a8-6af7-4924-bb6c-fd4062032fb9",
   "metadata": {},
   "outputs": [],
   "source": [
    "def train_step(models, ds, trn):\n",
    "    extractor, classifier, model = models \n",
    "    x,y = ds \n",
    "    with tf.GradientTape() as tape:    \n",
    "\n",
    "        total_loss = compute_loss(extractor, classifier, x, y, trn)\n",
    "\n",
    "    gradients = tape.gradient(total_loss, model.trainable_variables)\n",
    "    optimizer.apply_gradients(zip(gradients, model.trainable_variables))\n",
    "\n",
    "    models = extractor, classifier, model\n",
    "    return total_loss, models "
   ]
  },
  {
   "cell_type": "code",
   "execution_count": 149,
   "id": "9aa3b667-567e-4864-bc17-e520065a2d40",
   "metadata": {},
   "outputs": [],
   "source": [
    "extractor = Extractor()\n",
    "classifier = Classifier()\n",
    "model = build_model(extractor,classifier)\n"
   ]
  },
  {
   "cell_type": "code",
   "execution_count": 150,
   "id": "4dfa4f1e-c492-4eeb-a287-51af62008913",
   "metadata": {
    "tags": []
   },
   "outputs": [
    {
     "data": {
      "image/png": "[encoded data removed]",
      "text/plain": [
       "<Figure size 432x288 with 1 Axes>"
      ]
     },
     "metadata": {
      "needs_background": "light"
     },
     "output_type": "display_data"
    }
   ],
   "source": [
    "names = ['src','tgt']\n",
    "num_steps = list(train_batch_inps.keys()) # 미니배치의 수 \n",
    "\n",
    "history = {'src':[],'tgt':[]}\n",
    "\n",
    "for epoch in range(100):\n",
    "    \n",
    "    losses = {'src':[],'tgt':[]}\n",
    "    \n",
    "    for batch_idx in num_steps:\n",
    "        for trn in names:\n",
    "            if train_batch_inps[batch_idx]['tgt'].shape == train_batch_inps[batch_idx]['src'].shape: \n",
    "                \n",
    "                x,y = train_batch_inps[batch_idx], train_batch_lbls[batch_idx]\n",
    "                total_loss, models = train_step(models=(extractor, classifier, model), ds=(x,y), trn=trn)\n",
    "                extractor, classifier, model = models\n",
    "                if total_loss.numpy()>0:\n",
    "                    losses[trn].append(total_loss.numpy())\n",
    "    \n",
    "    history['src'].append(np.mean(losses['src']))\n",
    "    history['tgt'].append(np.mean(losses['tgt']))\n",
    "\n",
    "    if epoch % 10 == 0:\n",
    "        plt.title(f'Train_curve({epoch})')\n",
    "        plt.plot(history['src'],label='src')\n",
    "        plt.legend()\n",
    "        \n",
    "        #plt.subplot(1,2,2)\n",
    "        plt.plot(history['tgt'],label='tgt')\n",
    "        plt.legend()\n",
    "        \n",
    "        plt.show()\n",
    "        display.clear_output(wait=True)"
   ]
  },
  {
   "cell_type": "code",
   "execution_count": 137,
   "id": "e9351cab-b315-4c74-a44c-1c00d77e8b2d",
   "metadata": {},
   "outputs": [],
   "source": [
    "# 모델 평가"
   ]
  },
  {
   "cell_type": "code",
   "execution_count": 136,
   "id": "60fcc88b-33fc-4cdd-b8c7-69300c2b936d",
   "metadata": {
    "tags": []
   },
   "outputs": [
    {
     "name": "stdout",
     "output_type": "stream",
     "text": [
      "161/161 [==============================] - 0s 2ms/step - loss: 0.0214 - acc: 0.9981\n",
      "src_train -->. 99.805 %\n",
      "124/124 [==============================] - 0s 2ms/step - loss: 0.0099 - acc: 0.9992\n",
      "tgt_train -->. 99.924 %\n",
      "17/17 [==============================] - 0s 2ms/step - loss: 0.0291 - acc: 0.9890\n",
      "src_test -->. 98.897 %\n",
      "12/12 [==============================] - 0s 2ms/step - loss: 0.7420 - acc: 0.8907\n",
      "tgt_test -->. 89.067 %\n"
     ]
    }
   ],
   "source": [
    "for test_name,(x_gt, y_gt)in zip(['src_train','tgt_train']\n",
    "                                ,[[src_x_trn, src_y_trn],[tgt_x_trn, tgt_y_trn]]):\n",
    "\n",
    "    y_hat = model.predict(x_gt).argmax(axis=1)\n",
    "\n",
    "    model.compile(loss=CrossEntropy,metrics='acc')\n",
    "    test_loss, test_acc = model.evaluate(x_gt,y_gt)\n",
    "    print('{} -->. {:.3f}'.format(test_name, test_acc*100),'%')\n",
    "\n",
    "\n",
    "for test_name,(x_gt, y_gt)in zip(['src_test','tgt_test']\n",
    "                                ,[[src_x_tst, src_y_tst],[tgt_x_tst, tgt_y_tst]]):\n",
    "\n",
    "    y_hat = model.predict(x_gt).argmax(axis=1)\n",
    "\n",
    "    model.compile(loss=CrossEntropy,metrics='acc')\n",
    "    test_loss, test_acc = model.evaluate(x_gt,y_gt)\n",
    "    print('{} -->. {:.3f}'.format(test_name, test_acc*100),'%')\n"
   ]
  },
  {
   "cell_type": "code",
   "execution_count": null,
   "id": "b2f7b408-bad1-4126-aa8a-4f4aa73279d3",
   "metadata": {},
   "outputs": [],
   "source": []
  }
 ],
 "metadata": {
  "kernelspec": {
   "display_name": "Python 3",
   "language": "python",
   "name": "python3"
  },
  "language_info": {
   "codemirror_mode": {
    "name": "ipython",
    "version": 3
   },
   "file_extension": ".py",
   "mimetype": "text/x-python",
   "name": "python",
   "nbconvert_exporter": "python",
   "pygments_lexer": "ipython3",
   "version": "3.6.5"
  }
 },
 "nbformat": 4,
 "nbformat_minor": 5
}
